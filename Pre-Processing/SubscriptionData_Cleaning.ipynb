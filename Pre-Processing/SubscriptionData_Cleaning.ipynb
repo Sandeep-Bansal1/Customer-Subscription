{
 "cells": [
  {
   "cell_type": "markdown",
   "id": "3e4554c8-85ec-4203-b75e-fbd03344c20a",
   "metadata": {},
   "source": [
    "# Import Libraries"
   ]
  },
  {
   "cell_type": "code",
   "execution_count": 151,
   "id": "d2f123a2-ebd5-4a34-8ace-d623855454e1",
   "metadata": {},
   "outputs": [],
   "source": [
    "import pandas as pd\n",
    "import numpy as np\n",
    "import seaborn as sns\n",
    "import matplotlib.pyplot as plt\n",
    "pd.set_option('display.max_columns', None)\n",
    "import warnings\n",
    "warnings.filterwarnings('ignore')\n"
   ]
  },
  {
   "cell_type": "code",
   "execution_count": 152,
   "id": "3d66a202-bd8b-4f06-8b18-d2aa88beaeb0",
   "metadata": {},
   "outputs": [],
   "source": [
    "df = pd.read_csv('_SubscriptionDataset.csv')"
   ]
  },
  {
   "cell_type": "code",
   "execution_count": 207,
   "id": "f394a5e6-1944-4380-b776-4bd5ac6640d4",
   "metadata": {},
   "outputs": [
    {
     "data": {
      "text/html": [
       "<div>\n",
       "<style scoped>\n",
       "    .dataframe tbody tr th:only-of-type {\n",
       "        vertical-align: middle;\n",
       "    }\n",
       "\n",
       "    .dataframe tbody tr th {\n",
       "        vertical-align: top;\n",
       "    }\n",
       "\n",
       "    .dataframe thead th {\n",
       "        text-align: right;\n",
       "    }\n",
       "</style>\n",
       "<table border=\"1\" class=\"dataframe\">\n",
       "  <thead>\n",
       "    <tr style=\"text-align: right;\">\n",
       "      <th></th>\n",
       "      <th>customerID</th>\n",
       "      <th>gender</th>\n",
       "      <th>age_over_65</th>\n",
       "      <th>Partner</th>\n",
       "      <th>customer_longevity_in_months</th>\n",
       "      <th>Multiple Devices</th>\n",
       "      <th>InternetService</th>\n",
       "      <th>TechSupport_Rating</th>\n",
       "      <th>NUM_WATCHED_TITLES</th>\n",
       "      <th>State</th>\n",
       "      <th>Contract</th>\n",
       "      <th>E-Billing</th>\n",
       "      <th>PaymentMethod</th>\n",
       "      <th>MonthlyCharges</th>\n",
       "      <th>TotalCharges</th>\n",
       "      <th>Subscribed</th>\n",
       "      <th>Number_of_Profiles</th>\n",
       "      <th>PLAN_TYPE</th>\n",
       "      <th>NEW_RELEASE_CONSUMPTION</th>\n",
       "      <th>AUTORENEW_FLAG</th>\n",
       "      <th>Last_Payment_Date</th>\n",
       "      <th>Has_Children</th>\n",
       "      <th>AVG_WATCH_TIME</th>\n",
       "    </tr>\n",
       "  </thead>\n",
       "  <tbody>\n",
       "    <tr>\n",
       "      <th>0</th>\n",
       "      <td>7590-VHVEG</td>\n",
       "      <td>Female</td>\n",
       "      <td>0.0</td>\n",
       "      <td>Yes</td>\n",
       "      <td>1.0</td>\n",
       "      <td>0.0</td>\n",
       "      <td>DSL</td>\n",
       "      <td>Good</td>\n",
       "      <td>14.0</td>\n",
       "      <td>Kansas</td>\n",
       "      <td>Month-to-month</td>\n",
       "      <td>Yes</td>\n",
       "      <td>Electronic check</td>\n",
       "      <td>NaN</td>\n",
       "      <td>29.85</td>\n",
       "      <td>No</td>\n",
       "      <td>6</td>\n",
       "      <td>Premium</td>\n",
       "      <td>NaN</td>\n",
       "      <td>1.00</td>\n",
       "      <td>2023-01-19</td>\n",
       "      <td>4</td>\n",
       "      <td>40.26</td>\n",
       "    </tr>\n",
       "  </tbody>\n",
       "</table>\n",
       "</div>"
      ],
      "text/plain": [
       "   customerID  gender  age_over_65 Partner  customer_longevity_in_months  \\\n",
       "0  7590-VHVEG  Female          0.0     Yes                           1.0   \n",
       "\n",
       "   Multiple Devices InternetService TechSupport_Rating  NUM_WATCHED_TITLES  \\\n",
       "0               0.0             DSL               Good                14.0   \n",
       "\n",
       "    State        Contract E-Billing     PaymentMethod MonthlyCharges  \\\n",
       "0  Kansas  Month-to-month       Yes  Electronic check            NaN   \n",
       "\n",
       "  TotalCharges Subscribed Number_of_Profiles PLAN_TYPE  \\\n",
       "0        29.85         No                  6   Premium   \n",
       "\n",
       "  NEW_RELEASE_CONSUMPTION AUTORENEW_FLAG Last_Payment_Date Has_Children  \\\n",
       "0                     NaN           1.00        2023-01-19            4   \n",
       "\n",
       "  AVG_WATCH_TIME  \n",
       "0          40.26  "
      ]
     },
     "execution_count": 207,
     "metadata": {},
     "output_type": "execute_result"
    }
   ],
   "source": [
    "df.head(1)"
   ]
  },
  {
   "cell_type": "markdown",
   "id": "1fa855d0-f5e7-4769-8374-1cb8ee818faf",
   "metadata": {},
   "source": [
    "# Data Cleaning \n",
    " - It appears the data is quite dirty and needs to be cleaned. Unfortunately there is no shortcut for this step.\n",
    " - I typically go column by column to inspect each invididually then I will complete data inspection as a whole. "
   ]
  },
  {
   "cell_type": "code",
   "execution_count": 156,
   "id": "f3200f84-ecd2-45d6-b4d6-b01adfc39f54",
   "metadata": {},
   "outputs": [
    {
     "data": {
      "text/plain": [
       "gender\n",
       "Male        1745\n",
       "Female      1719\n",
       " Male       1715\n",
       " Female     1657\n",
       "Name: count, dtype: int64"
      ]
     },
     "execution_count": 156,
     "metadata": {},
     "output_type": "execute_result"
    }
   ],
   "source": [
    "df['gender'].value_counts()"
   ]
  },
  {
   "cell_type": "code",
   "execution_count": 157,
   "id": "c8cf86e7-f073-4878-a7c4-843b8597ad63",
   "metadata": {},
   "outputs": [
    {
     "data": {
      "text/plain": [
       "gender\n",
       "Male      3460\n",
       "Female    3376\n",
       "Name: count, dtype: int64"
      ]
     },
     "execution_count": 157,
     "metadata": {},
     "output_type": "execute_result"
    }
   ],
   "source": [
    "df['gender'] = df['gender'].str.strip()\n",
    "df['gender'].value_counts()"
   ]
  },
  {
   "cell_type": "code",
   "execution_count": 159,
   "id": "5ee81ec0-be2b-499a-b10a-26be09f6b672",
   "metadata": {},
   "outputs": [
    {
     "data": {
      "text/plain": [
       "age_over_65\n",
       "$0.00     2869\n",
       "0         2864\n",
       "1          601\n",
       "$1.00      515\n",
       "$nan       455\n",
       "Name: count, dtype: int64"
      ]
     },
     "execution_count": 159,
     "metadata": {},
     "output_type": "execute_result"
    }
   ],
   "source": [
    "df['age_over_65'].value_counts()"
   ]
  },
  {
   "cell_type": "code",
   "execution_count": 160,
   "id": "7831d3d3-f147-4442-a198-0d810600de05",
   "metadata": {},
   "outputs": [],
   "source": [
    "# Remove dollar signs and commas\n",
    "# skip NaN values\n",
    "# convert to nullable integers\n",
    "\n",
    "df['age_over_65'] = pd.to_numeric(\n",
    "    df['age_over_65'].replace({'\\$': '', ',': ''}, regex=True), errors='coerce'\n",
    ").astype('Int64')  # Int64 allows for NaN values\n"
   ]
  },
  {
   "cell_type": "code",
   "execution_count": 161,
   "id": "9de7b5d9-f396-4454-930f-76089c99a7ee",
   "metadata": {},
   "outputs": [
    {
     "data": {
      "text/plain": [
       "age_over_65\n",
       "0    5733\n",
       "1    1116\n",
       "Name: count, dtype: Int64"
      ]
     },
     "execution_count": 161,
     "metadata": {},
     "output_type": "execute_result"
    }
   ],
   "source": [
    "df['age_over_65'].value_counts()"
   ]
  },
  {
   "cell_type": "code",
   "execution_count": 162,
   "id": "9fbe3e73-1192-4e9a-9fd7-0dcdd680a369",
   "metadata": {},
   "outputs": [
    {
     "data": {
      "text/plain": [
       "Partner\n",
       "No       1753\n",
       " No      1740\n",
       "Yes      1707\n",
       " Yes     1629\n",
       "Name: count, dtype: int64"
      ]
     },
     "execution_count": 162,
     "metadata": {},
     "output_type": "execute_result"
    }
   ],
   "source": [
    "df['Partner'].value_counts()"
   ]
  },
  {
   "cell_type": "code",
   "execution_count": 163,
   "id": "9524f696-9f5f-4ce6-b669-5b48e30d5dd1",
   "metadata": {},
   "outputs": [
    {
     "data": {
      "text/plain": [
       "Partner\n",
       "No     3493\n",
       "Yes    3336\n",
       "Name: count, dtype: int64"
      ]
     },
     "execution_count": 163,
     "metadata": {},
     "output_type": "execute_result"
    }
   ],
   "source": [
    "df['Partner'] = df['Partner'].str.strip()\n",
    "df['Partner'].value_counts()"
   ]
  },
  {
   "cell_type": "code",
   "execution_count": 165,
   "id": "0caa4ebe-f75a-4efb-8011-bb3349d86484",
   "metadata": {},
   "outputs": [
    {
     "data": {
      "text/plain": [
       "customer_longevity_in_months\n",
       "$nan       465\n",
       "1          315\n",
       "$1.00      292\n",
       "72         181\n",
       "$72.00     170\n",
       "          ... \n",
       "54          23\n",
       "$49.00      23\n",
       "36          21\n",
       "0            4\n",
       "$0.00        4\n",
       "Name: count, Length: 147, dtype: int64"
      ]
     },
     "execution_count": 165,
     "metadata": {},
     "output_type": "execute_result"
    }
   ],
   "source": [
    "df['customer_longevity_in_months'].value_counts()"
   ]
  },
  {
   "cell_type": "code",
   "execution_count": 166,
   "id": "fcdcbc30-7cac-4d6d-b765-d3ca7dd5fec1",
   "metadata": {},
   "outputs": [],
   "source": [
    "# Remove dollar signs and commas\n",
    "# skip NaN values\n",
    "# convert to nullable integers\n",
    "\n",
    "df['customer_longevity_in_months'] = pd.to_numeric(\n",
    "    df['customer_longevity_in_months'].replace({'\\$': '', ',': ''}, regex=True), errors='coerce')"
   ]
  },
  {
   "cell_type": "code",
   "execution_count": 167,
   "id": "98fccaad-3d7b-4564-a403-7cbf9d15207a",
   "metadata": {},
   "outputs": [
    {
     "data": {
      "text/plain": [
       "customer_longevity_in_months\n",
       "1.0     607\n",
       "72.0    351\n",
       "2.0     227\n",
       "3.0     181\n",
       "4.0     173\n",
       "       ... \n",
       "38.0     55\n",
       "28.0     53\n",
       "39.0     53\n",
       "36.0     46\n",
       "0.0       8\n",
       "Name: count, Length: 73, dtype: int64"
      ]
     },
     "execution_count": 167,
     "metadata": {},
     "output_type": "execute_result"
    }
   ],
   "source": [
    "df['customer_longevity_in_months'].value_counts()"
   ]
  },
  {
   "cell_type": "code",
   "execution_count": 168,
   "id": "1044bc74-6680-4263-b8bc-186930e5e708",
   "metadata": {},
   "outputs": [
    {
     "data": {
      "text/plain": [
       "Multiple Devices\n",
       "$4.00     745\n",
       "2         724\n",
       "1         702\n",
       "$2.00     699\n",
       "$1.00     690\n",
       "$3.00     674\n",
       "$0.00     672\n",
       "3         665\n",
       "4         656\n",
       "0         613\n",
       "$nan      455\n",
       "Name: count, dtype: int64"
      ]
     },
     "execution_count": 168,
     "metadata": {},
     "output_type": "execute_result"
    }
   ],
   "source": [
    "# Remove dollar signs and commas\n",
    "# skip NaN values\n",
    "# convert to nullable integers\n",
    "\n",
    "df['Multiple Devices'].value_counts()"
   ]
  },
  {
   "cell_type": "code",
   "execution_count": 169,
   "id": "0a57ea94-9c61-42e2-8471-db2f856f7094",
   "metadata": {},
   "outputs": [],
   "source": [
    "# Remove dollar signs, commas, and decimals, and convert to integers\n",
    "\n",
    "df['Multiple Devices'] = pd.to_numeric(\n",
    "    df['Multiple Devices'].replace({'\\$': '', ',': ''}, regex=True), errors='coerce'\n",
    ").apply(lambda x: int(x) if pd.notnull(x) else x)\n"
   ]
  },
  {
   "cell_type": "code",
   "execution_count": 170,
   "id": "d70edc6b-1235-443a-ac8e-dd418611f3e2",
   "metadata": {},
   "outputs": [
    {
     "data": {
      "text/plain": [
       "Multiple Devices\n",
       "2.0    1423\n",
       "4.0    1401\n",
       "1.0    1392\n",
       "3.0    1339\n",
       "0.0    1285\n",
       "Name: count, dtype: int64"
      ]
     },
     "execution_count": 170,
     "metadata": {},
     "output_type": "execute_result"
    }
   ],
   "source": [
    "df['Multiple Devices'].value_counts()"
   ]
  },
  {
   "cell_type": "code",
   "execution_count": 171,
   "id": "76f242e1-bdf5-43a3-88ea-99dff1214c92",
   "metadata": {},
   "outputs": [
    {
     "data": {
      "text/plain": [
       "InternetService\n",
       " Fiber optic     1570\n",
       "Fiber optic      1455\n",
       " DSL             1175\n",
       "DSL              1173\n",
       " No               767\n",
       "No                715\n",
       "Name: count, dtype: int64"
      ]
     },
     "execution_count": 171,
     "metadata": {},
     "output_type": "execute_result"
    }
   ],
   "source": [
    "\n",
    "df['InternetService'].value_counts()"
   ]
  },
  {
   "cell_type": "code",
   "execution_count": 172,
   "id": "eba87bac-81b7-4858-8a1b-69d99f349f20",
   "metadata": {},
   "outputs": [
    {
     "data": {
      "text/plain": [
       "InternetService\n",
       "Fiber optic    3025\n",
       "DSL            2348\n",
       "No             1482\n",
       "Name: count, dtype: int64"
      ]
     },
     "execution_count": 172,
     "metadata": {},
     "output_type": "execute_result"
    }
   ],
   "source": [
    "# Remove Whitespaces\n",
    "\n",
    "df['InternetService'] = df['InternetService'].str.strip()\n",
    "df['InternetService'].value_counts()"
   ]
  },
  {
   "cell_type": "code",
   "execution_count": 173,
   "id": "8ecde5bb-0e76-41c0-88f4-a823ccbdb618",
   "metadata": {},
   "outputs": [
    {
     "data": {
      "text/plain": [
       "TechSupport_Rating\n",
       "('Good', 'ExtraValue')      918\n",
       "(' Bad ', 'ExtraValue')     866\n",
       "['Bad', 'ListValue']        864\n",
       "[' Bad ', 'ListValue']      859\n",
       "('Bad', 'ExtraValue')       858\n",
       "['Good', 'ListValue']       845\n",
       "[' Good ', 'ListValue']     842\n",
       "(' Good ', 'ExtraValue')    802\n",
       "(nan, 'ExtraValue')         457\n",
       "[nan, 'ListValue']          436\n",
       "Name: count, dtype: int64"
      ]
     },
     "execution_count": 173,
     "metadata": {},
     "output_type": "execute_result"
    }
   ],
   "source": [
    "df['TechSupport_Rating'].value_counts()"
   ]
  },
  {
   "cell_type": "code",
   "execution_count": 174,
   "id": "f7ef455d-be8c-436b-b286-d9ef9e1bea86",
   "metadata": {},
   "outputs": [],
   "source": [
    "# Remove lists and tuples, keeping only the first ele \n",
    "# Remove the second element (index 1) from lists and tuples\n",
    "\n",
    "# Remove the first and last character of a string\n",
    "df['TechSupport_Rating'] = df['TechSupport_Rating'].apply(lambda x: x[1:-1] if isinstance(x, str) else x)\n",
    "\n"
   ]
  },
  {
   "cell_type": "code",
   "execution_count": 175,
   "id": "e47e0661-84f5-44b7-a2fb-669802fdec25",
   "metadata": {},
   "outputs": [
    {
     "data": {
      "text/plain": [
       "TechSupport_Rating\n",
       "'Good', 'ExtraValue'      918\n",
       "' Bad ', 'ExtraValue'     866\n",
       "'Bad', 'ListValue'        864\n",
       "' Bad ', 'ListValue'      859\n",
       "'Bad', 'ExtraValue'       858\n",
       "'Good', 'ListValue'       845\n",
       "' Good ', 'ListValue'     842\n",
       "' Good ', 'ExtraValue'    802\n",
       "nan, 'ExtraValue'         457\n",
       "nan, 'ListValue'          436\n",
       "Name: count, dtype: int64"
      ]
     },
     "execution_count": 175,
     "metadata": {},
     "output_type": "execute_result"
    }
   ],
   "source": [
    "df['TechSupport_Rating'].value_counts()"
   ]
  },
  {
   "cell_type": "code",
   "execution_count": 176,
   "id": "0fa86173-5fd5-404d-8be5-137b4b9ed1e6",
   "metadata": {},
   "outputs": [],
   "source": [
    "# Convert the string values to a list, splitting by commas\n",
    "df['TechSupport_Rating'] = df['TechSupport_Rating'].apply(\n",
    "    lambda x: x.split(',') if isinstance(x, str) else x\n",
    ")"
   ]
  },
  {
   "cell_type": "code",
   "execution_count": 177,
   "id": "cf965e77-0d1e-4fda-bd92-b0f14d0b39e3",
   "metadata": {},
   "outputs": [
    {
     "data": {
      "text/plain": [
       "TechSupport_Rating\n",
       "['Good',  'ExtraValue']      918\n",
       "[' Bad ',  'ExtraValue']     866\n",
       "['Bad',  'ListValue']        864\n",
       "[' Bad ',  'ListValue']      859\n",
       "['Bad',  'ExtraValue']       858\n",
       "['Good',  'ListValue']       845\n",
       "[' Good ',  'ListValue']     842\n",
       "[' Good ',  'ExtraValue']    802\n",
       "[nan,  'ExtraValue']         457\n",
       "[nan,  'ListValue']          436\n",
       "Name: count, dtype: int64"
      ]
     },
     "execution_count": 177,
     "metadata": {},
     "output_type": "execute_result"
    }
   ],
   "source": [
    "df['TechSupport_Rating'].value_counts()"
   ]
  },
  {
   "cell_type": "code",
   "execution_count": 178,
   "id": "8f3dff6c-70cd-4804-a3f2-042ead6284e9",
   "metadata": {},
   "outputs": [],
   "source": [
    "df['TechSupport_Rating'] = df['TechSupport_Rating'].apply(lambda x: [item.strip() for item in x] if isinstance(x, list) else x)\n"
   ]
  },
  {
   "cell_type": "code",
   "execution_count": 179,
   "id": "51ce7002-06f7-4b04-b5fb-c723b69f95c7",
   "metadata": {},
   "outputs": [
    {
     "data": {
      "text/plain": [
       "TechSupport_Rating\n",
       "['Good', 'ExtraValue']      918\n",
       "[' Bad ', 'ExtraValue']     866\n",
       "['Bad', 'ListValue']        864\n",
       "[' Bad ', 'ListValue']      859\n",
       "['Bad', 'ExtraValue']       858\n",
       "['Good', 'ListValue']       845\n",
       "[' Good ', 'ListValue']     842\n",
       "[' Good ', 'ExtraValue']    802\n",
       "[nan, 'ExtraValue']         457\n",
       "[nan, 'ListValue']          436\n",
       "Name: count, dtype: int64"
      ]
     },
     "execution_count": 179,
     "metadata": {},
     "output_type": "execute_result"
    }
   ],
   "source": [
    "df['TechSupport_Rating'].value_counts()"
   ]
  },
  {
   "cell_type": "code",
   "execution_count": 180,
   "id": "974c3610-3209-4066-b12a-68501e1988ac",
   "metadata": {},
   "outputs": [
    {
     "data": {
      "text/plain": [
       "TechSupport_Rating\n",
       "'Good'      1763\n",
       "' Bad '     1725\n",
       "'Bad'       1722\n",
       "' Good '    1644\n",
       "nan          893\n",
       "Name: count, dtype: int64"
      ]
     },
     "execution_count": 180,
     "metadata": {},
     "output_type": "execute_result"
    }
   ],
   "source": [
    "# Use for loop to keep only the 0th element from each list in 'TechSupport_Rating'\n",
    "\n",
    "for index, row in df.iterrows():\n",
    "    if isinstance(row['TechSupport_Rating'], list):\n",
    "        df.at[index, 'TechSupport_Rating'] = row['TechSupport_Rating'][0]\n",
    "\n",
    "df['TechSupport_Rating'].value_counts()"
   ]
  },
  {
   "cell_type": "code",
   "execution_count": 181,
   "id": "c54baff7-4ee0-498c-99d8-89e8e5c36d3b",
   "metadata": {},
   "outputs": [],
   "source": [
    "df['TechSupport_Rating'] = df['TechSupport_Rating'].str.strip()"
   ]
  },
  {
   "cell_type": "code",
   "execution_count": 182,
   "id": "d9479c5b-a11a-4338-a987-68385877f892",
   "metadata": {},
   "outputs": [],
   "source": [
    "# Loop through each row to remove whitespaces inside quotes\n",
    "\n",
    "for index, row in df.iterrows():\n",
    "    df.at[index, 'TechSupport_Rating'] = row['TechSupport_Rating'].replace(' ', '').strip()\n"
   ]
  },
  {
   "cell_type": "code",
   "execution_count": 183,
   "id": "a15c48d2-67fd-4c8f-8df2-82fea0b82cd1",
   "metadata": {},
   "outputs": [
    {
     "data": {
      "text/plain": [
       "TechSupport_Rating\n",
       "'Bad'     3447\n",
       "'Good'    3407\n",
       "nan        893\n",
       "Name: count, dtype: int64"
      ]
     },
     "execution_count": 183,
     "metadata": {},
     "output_type": "execute_result"
    }
   ],
   "source": [
    "df['TechSupport_Rating'].value_counts()"
   ]
  },
  {
   "cell_type": "code",
   "execution_count": 184,
   "id": "202b2e84-8bf9-4a29-9d97-8286c249fe45",
   "metadata": {},
   "outputs": [
    {
     "data": {
      "text/plain": [
       "TechSupport_Rating\n",
       "Bad     3447\n",
       "Good    3407\n",
       "nan      893\n",
       "Name: count, dtype: int64"
      ]
     },
     "execution_count": 184,
     "metadata": {},
     "output_type": "execute_result"
    }
   ],
   "source": [
    "# Loop through each row to clean 'TechSupport_Rating' values\n",
    "\n",
    "for index, row in df.iterrows():\n",
    "    cleaned_value = row['TechSupport_Rating'].replace('\"', '').replace(\"'\", \"\").strip()\n",
    "    df.at[index, 'TechSupport_Rating'] = cleaned_value\n",
    "df['TechSupport_Rating'].value_counts()"
   ]
  },
  {
   "cell_type": "code",
   "execution_count": 185,
   "id": "e71dc5d1-a837-4944-80d2-4a8ef7284cef",
   "metadata": {},
   "outputs": [
    {
     "data": {
      "text/plain": [
       "NUM_WATCHED_TITLES\n",
       "$nan       465\n",
       "$16.00     213\n",
       "$6.00      193\n",
       "6          190\n",
       "10         189\n",
       "Name: count, dtype: int64"
      ]
     },
     "execution_count": 185,
     "metadata": {},
     "output_type": "execute_result"
    }
   ],
   "source": [
    "df['NUM_WATCHED_TITLES'].value_counts().head()"
   ]
  },
  {
   "cell_type": "code",
   "execution_count": 186,
   "id": "f2786c3d-439c-462e-9c7d-e35b6a00d056",
   "metadata": {},
   "outputs": [],
   "source": [
    "df['NUM_WATCHED_TITLES'] = pd.to_numeric(\n",
    "    df['NUM_WATCHED_TITLES'].replace({'\\$': '', ',': ''}, regex=True), errors='coerce'\n",
    ").apply(lambda x: int(x) if pd.notnull(x) else x)\n"
   ]
  },
  {
   "cell_type": "code",
   "execution_count": 187,
   "id": "c3b1d2fb-c518-4d29-aab2-83676e87558d",
   "metadata": {},
   "outputs": [
    {
     "data": {
      "text/plain": [
       "NUM_WATCHED_TITLES\n",
       "6.0     383\n",
       "16.0    375\n",
       "10.0    368\n",
       "7.0     356\n",
       "8.0     355\n",
       "Name: count, dtype: int64"
      ]
     },
     "execution_count": 187,
     "metadata": {},
     "output_type": "execute_result"
    }
   ],
   "source": [
    "df['NUM_WATCHED_TITLES'].value_counts().head()"
   ]
  },
  {
   "cell_type": "code",
   "execution_count": 188,
   "id": "46899de9-9350-4541-8f7b-5ccfc0eea6d6",
   "metadata": {},
   "outputs": [
    {
     "data": {
      "text/plain": [
       "State\n",
       "<b>nan</b>              270\n",
       " Vermont                 64\n",
       "New Hampshire            63\n",
       " Oklahoma                61\n",
       "West Virginia            60\n",
       "                       ... \n",
       "<b>Kentucky</b>          13\n",
       "<b> Wisconsin </b>       12\n",
       "<b>Michigan</b>          12\n",
       "<b> Connecticut </b>     12\n",
       "<b>Arkansas</b>           9\n",
       "Name: count, Length: 201, dtype: int64"
      ]
     },
     "execution_count": 188,
     "metadata": {},
     "output_type": "execute_result"
    }
   ],
   "source": [
    "df['State'].value_counts()"
   ]
  },
  {
   "cell_type": "code",
   "execution_count": 189,
   "id": "61d26a7b-8776-431b-b9d6-b324dcf105b7",
   "metadata": {},
   "outputs": [],
   "source": [
    "import re\n",
    "# Function to remove HTML tags\n",
    "def remove_html_tags(text):\n",
    "    clean = re.compile('<.*?>')\n",
    "    return re.sub(clean, '', text)\n",
    "\n",
    "# Apply the function to the 'State' column, handling non-string values\n",
    "df['State'] = df['State'].apply(lambda x: remove_html_tags(x) if isinstance(x, str) else x)"
   ]
  },
  {
   "cell_type": "code",
   "execution_count": 190,
   "id": "37b7590f-b916-4902-bdd2-0435fa1e3cc9",
   "metadata": {},
   "outputs": [
    {
     "data": {
      "text/plain": [
       "State\n",
       "nan              270\n",
       "New York          92\n",
       " Vermont          91\n",
       "Maine             89\n",
       " Oregon           88\n",
       "                ... \n",
       "Maryland          54\n",
       " Connecticut      53\n",
       " Alaska           53\n",
       " Wisconsin        52\n",
       " Arizona          41\n",
       "Name: count, Length: 101, dtype: int64"
      ]
     },
     "execution_count": 190,
     "metadata": {},
     "output_type": "execute_result"
    }
   ],
   "source": [
    "df['State'].value_counts()"
   ]
  },
  {
   "cell_type": "code",
   "execution_count": 191,
   "id": "8b158171-8b47-43ae-aa42-2c2451671661",
   "metadata": {},
   "outputs": [],
   "source": [
    "df['State'] = df['State'].str.strip()"
   ]
  },
  {
   "cell_type": "code",
   "execution_count": 192,
   "id": "34e6f2c3-170f-463e-8de7-6926e0e55bfa",
   "metadata": {},
   "outputs": [
    {
     "data": {
      "text/plain": [
       "State\n",
       "nan         270\n",
       "New York    169\n",
       "Vermont     167\n",
       "Name: count, dtype: int64"
      ]
     },
     "execution_count": 192,
     "metadata": {},
     "output_type": "execute_result"
    }
   ],
   "source": [
    "df['State'].value_counts().head(3)"
   ]
  },
  {
   "cell_type": "code",
   "execution_count": 193,
   "id": "e0955f41-bd71-4c89-bc0d-a3d6a542089d",
   "metadata": {},
   "outputs": [],
   "source": [
    "# Remove dollar sign from all columns\n",
    "df = df.applymap(lambda x: x.replace('$', '') if isinstance(x, str) else x)\n"
   ]
  },
  {
   "cell_type": "code",
   "execution_count": 194,
   "id": "849069ec-c7b9-4a67-8721-0d02c949143a",
   "metadata": {},
   "outputs": [],
   "source": [
    "# Round all columns with decimal values to 2 decimal places\n",
    "df = df.applymap(lambda x: round(x, 2) if isinstance(x, (int, float)) else x)\n"
   ]
  },
  {
   "cell_type": "code",
   "execution_count": 195,
   "id": "0422bf1c-a32e-46c8-a5c6-a386569ccf0a",
   "metadata": {},
   "outputs": [
    {
     "data": {
      "text/html": [
       "<div>\n",
       "<style scoped>\n",
       "    .dataframe tbody tr th:only-of-type {\n",
       "        vertical-align: middle;\n",
       "    }\n",
       "\n",
       "    .dataframe tbody tr th {\n",
       "        vertical-align: top;\n",
       "    }\n",
       "\n",
       "    .dataframe thead th {\n",
       "        text-align: right;\n",
       "    }\n",
       "</style>\n",
       "<table border=\"1\" class=\"dataframe\">\n",
       "  <thead>\n",
       "    <tr style=\"text-align: right;\">\n",
       "      <th></th>\n",
       "      <th>customerID</th>\n",
       "      <th>gender</th>\n",
       "      <th>age_over_65</th>\n",
       "      <th>Partner</th>\n",
       "      <th>customer_longevity_in_months</th>\n",
       "      <th>Multiple Devices</th>\n",
       "      <th>InternetService</th>\n",
       "      <th>TechSupport_Rating</th>\n",
       "      <th>NUM_WATCHED_TITLES</th>\n",
       "      <th>State</th>\n",
       "      <th>Contract</th>\n",
       "      <th>E-Billing</th>\n",
       "      <th>PaymentMethod</th>\n",
       "      <th>MonthlyCharges</th>\n",
       "      <th>TotalCharges</th>\n",
       "      <th>Subscribed</th>\n",
       "      <th>Number_of_Profiles</th>\n",
       "      <th>PLAN_TYPE</th>\n",
       "      <th>NEW_RELEASE_CONSUMPTION</th>\n",
       "      <th>AUTORENEW_FLAG</th>\n",
       "      <th>Last_Payment_Date</th>\n",
       "      <th>Has_Children</th>\n",
       "      <th>AVG_WATCH_TIME</th>\n",
       "    </tr>\n",
       "  </thead>\n",
       "  <tbody>\n",
       "    <tr>\n",
       "      <th>0</th>\n",
       "      <td>7590-VHVEG</td>\n",
       "      <td>Female</td>\n",
       "      <td>0.0</td>\n",
       "      <td>Yes</td>\n",
       "      <td>1.0</td>\n",
       "      <td>0.0</td>\n",
       "      <td>DSL</td>\n",
       "      <td>Good</td>\n",
       "      <td>14.0</td>\n",
       "      <td>Kansas</td>\n",
       "      <td>Month-to-month</td>\n",
       "      <td>Yes</td>\n",
       "      <td>Electronic check</td>\n",
       "      <td>NaN</td>\n",
       "      <td>29.85</td>\n",
       "      <td>No</td>\n",
       "      <td>6</td>\n",
       "      <td>Premium</td>\n",
       "      <td>NaN</td>\n",
       "      <td>1.00</td>\n",
       "      <td>1/19/23</td>\n",
       "      <td>4</td>\n",
       "      <td>40.26</td>\n",
       "    </tr>\n",
       "    <tr>\n",
       "      <th>1</th>\n",
       "      <td>5575-GNVDE</td>\n",
       "      <td>Male</td>\n",
       "      <td>NaN</td>\n",
       "      <td>NaN</td>\n",
       "      <td>34.0</td>\n",
       "      <td>1.0</td>\n",
       "      <td>DSL</td>\n",
       "      <td>Bad</td>\n",
       "      <td>16.0</td>\n",
       "      <td>Hawaii</td>\n",
       "      <td>One year</td>\n",
       "      <td>No</td>\n",
       "      <td>Mailed check</td>\n",
       "      <td>56.95</td>\n",
       "      <td>1889.5</td>\n",
       "      <td>No</td>\n",
       "      <td>5</td>\n",
       "      <td>Standard</td>\n",
       "      <td>42.23</td>\n",
       "      <td>0.00</td>\n",
       "      <td>10/23/23</td>\n",
       "      <td>5</td>\n",
       "      <td>9.9299389</td>\n",
       "    </tr>\n",
       "    <tr>\n",
       "      <th>2</th>\n",
       "      <td>3668-QPYBK</td>\n",
       "      <td>Male</td>\n",
       "      <td>0.0</td>\n",
       "      <td>No</td>\n",
       "      <td>NaN</td>\n",
       "      <td>3.0</td>\n",
       "      <td>DSL</td>\n",
       "      <td>Good</td>\n",
       "      <td>6.0</td>\n",
       "      <td>NaN</td>\n",
       "      <td>Month-to-month</td>\n",
       "      <td>Yes</td>\n",
       "      <td>Mailed check</td>\n",
       "      <td>53.85</td>\n",
       "      <td>108.15</td>\n",
       "      <td>NaN</td>\n",
       "      <td>4.00</td>\n",
       "      <td>Basic</td>\n",
       "      <td>64.16</td>\n",
       "      <td>0</td>\n",
       "      <td>20/01/2023</td>\n",
       "      <td>5</td>\n",
       "      <td>3.49</td>\n",
       "    </tr>\n",
       "  </tbody>\n",
       "</table>\n",
       "</div>"
      ],
      "text/plain": [
       "     customerID  gender  age_over_65 Partner  customer_longevity_in_months  \\\n",
       "0   7590-VHVEG   Female          0.0     Yes                           1.0   \n",
       "1    5575-GNVDE    Male          NaN     NaN                          34.0   \n",
       "2    3668-QPYBK    Male          0.0      No                           NaN   \n",
       "\n",
       "   Multiple Devices InternetService TechSupport_Rating  NUM_WATCHED_TITLES  \\\n",
       "0               0.0             DSL               Good                14.0   \n",
       "1               1.0             DSL                Bad                16.0   \n",
       "2               3.0             DSL               Good                 6.0   \n",
       "\n",
       "    State          Contract E-Billing     PaymentMethod MonthlyCharges  \\\n",
       "0  Kansas   Month-to-month       Yes   Electronic check            NaN   \n",
       "1  Hawaii         One year        No       Mailed check          56.95   \n",
       "2     NaN   Month-to-month       Yes       Mailed check          53.85   \n",
       "\n",
       "  TotalCharges Subscribed Number_of_Profiles   PLAN_TYPE  \\\n",
       "0        29.85         No                  6     Premium   \n",
       "1       1889.5        No                   5   Standard    \n",
       "2       108.15        NaN              4.00        Basic   \n",
       "\n",
       "  NEW_RELEASE_CONSUMPTION AUTORENEW_FLAG Last_Payment_Date Has_Children  \\\n",
       "0                     NaN          1.00            1/19/23            4   \n",
       "1                  42.23           0.00           10/23/23            5   \n",
       "2                  64.16               0        20/01/2023            5   \n",
       "\n",
       "  AVG_WATCH_TIME  \n",
       "0         40.26   \n",
       "1      9.9299389  \n",
       "2          3.49   "
      ]
     },
     "execution_count": 195,
     "metadata": {},
     "output_type": "execute_result"
    }
   ],
   "source": [
    "df.head(3)"
   ]
  },
  {
   "cell_type": "code",
   "execution_count": 196,
   "id": "5ea5aaee-4ef9-490d-850d-f7ec30c66526",
   "metadata": {},
   "outputs": [],
   "source": [
    "# Remove whitespaces from all string values in the DataFrame\n",
    "df = df.applymap(lambda x: x.strip() if isinstance(x, str) else x)\n"
   ]
  },
  {
   "cell_type": "code",
   "execution_count": 197,
   "id": "62a92bfe-86a2-4444-9074-683286b89942",
   "metadata": {},
   "outputs": [
    {
     "data": {
      "text/html": [
       "<div>\n",
       "<style scoped>\n",
       "    .dataframe tbody tr th:only-of-type {\n",
       "        vertical-align: middle;\n",
       "    }\n",
       "\n",
       "    .dataframe tbody tr th {\n",
       "        vertical-align: top;\n",
       "    }\n",
       "\n",
       "    .dataframe thead th {\n",
       "        text-align: right;\n",
       "    }\n",
       "</style>\n",
       "<table border=\"1\" class=\"dataframe\">\n",
       "  <thead>\n",
       "    <tr style=\"text-align: right;\">\n",
       "      <th></th>\n",
       "      <th>customerID</th>\n",
       "      <th>gender</th>\n",
       "      <th>age_over_65</th>\n",
       "      <th>Partner</th>\n",
       "      <th>customer_longevity_in_months</th>\n",
       "      <th>Multiple Devices</th>\n",
       "      <th>InternetService</th>\n",
       "      <th>TechSupport_Rating</th>\n",
       "      <th>NUM_WATCHED_TITLES</th>\n",
       "      <th>State</th>\n",
       "      <th>Contract</th>\n",
       "      <th>E-Billing</th>\n",
       "      <th>PaymentMethod</th>\n",
       "      <th>MonthlyCharges</th>\n",
       "      <th>TotalCharges</th>\n",
       "      <th>Subscribed</th>\n",
       "      <th>Number_of_Profiles</th>\n",
       "      <th>PLAN_TYPE</th>\n",
       "      <th>NEW_RELEASE_CONSUMPTION</th>\n",
       "      <th>AUTORENEW_FLAG</th>\n",
       "      <th>Last_Payment_Date</th>\n",
       "      <th>Has_Children</th>\n",
       "      <th>AVG_WATCH_TIME</th>\n",
       "    </tr>\n",
       "  </thead>\n",
       "  <tbody>\n",
       "    <tr>\n",
       "      <th>0</th>\n",
       "      <td>7590-VHVEG</td>\n",
       "      <td>Female</td>\n",
       "      <td>0.0</td>\n",
       "      <td>Yes</td>\n",
       "      <td>1.0</td>\n",
       "      <td>0.0</td>\n",
       "      <td>DSL</td>\n",
       "      <td>Good</td>\n",
       "      <td>14.0</td>\n",
       "      <td>Kansas</td>\n",
       "      <td>Month-to-month</td>\n",
       "      <td>Yes</td>\n",
       "      <td>Electronic check</td>\n",
       "      <td>NaN</td>\n",
       "      <td>29.85</td>\n",
       "      <td>No</td>\n",
       "      <td>6</td>\n",
       "      <td>Premium</td>\n",
       "      <td>NaN</td>\n",
       "      <td>1.00</td>\n",
       "      <td>1/19/23</td>\n",
       "      <td>4</td>\n",
       "      <td>40.26</td>\n",
       "    </tr>\n",
       "    <tr>\n",
       "      <th>1</th>\n",
       "      <td>5575-GNVDE</td>\n",
       "      <td>Male</td>\n",
       "      <td>NaN</td>\n",
       "      <td>NaN</td>\n",
       "      <td>34.0</td>\n",
       "      <td>1.0</td>\n",
       "      <td>DSL</td>\n",
       "      <td>Bad</td>\n",
       "      <td>16.0</td>\n",
       "      <td>Hawaii</td>\n",
       "      <td>One year</td>\n",
       "      <td>No</td>\n",
       "      <td>Mailed check</td>\n",
       "      <td>56.95</td>\n",
       "      <td>1889.5</td>\n",
       "      <td>No</td>\n",
       "      <td>5</td>\n",
       "      <td>Standard</td>\n",
       "      <td>42.23</td>\n",
       "      <td>0.00</td>\n",
       "      <td>10/23/23</td>\n",
       "      <td>5</td>\n",
       "      <td>9.9299389</td>\n",
       "    </tr>\n",
       "    <tr>\n",
       "      <th>2</th>\n",
       "      <td>3668-QPYBK</td>\n",
       "      <td>Male</td>\n",
       "      <td>0.0</td>\n",
       "      <td>No</td>\n",
       "      <td>NaN</td>\n",
       "      <td>3.0</td>\n",
       "      <td>DSL</td>\n",
       "      <td>Good</td>\n",
       "      <td>6.0</td>\n",
       "      <td>NaN</td>\n",
       "      <td>Month-to-month</td>\n",
       "      <td>Yes</td>\n",
       "      <td>Mailed check</td>\n",
       "      <td>53.85</td>\n",
       "      <td>108.15</td>\n",
       "      <td>NaN</td>\n",
       "      <td>4.00</td>\n",
       "      <td>Basic</td>\n",
       "      <td>64.16</td>\n",
       "      <td>0</td>\n",
       "      <td>20/01/2023</td>\n",
       "      <td>5</td>\n",
       "      <td>3.49</td>\n",
       "    </tr>\n",
       "  </tbody>\n",
       "</table>\n",
       "</div>"
      ],
      "text/plain": [
       "   customerID  gender  age_over_65 Partner  customer_longevity_in_months  \\\n",
       "0  7590-VHVEG  Female          0.0     Yes                           1.0   \n",
       "1  5575-GNVDE    Male          NaN     NaN                          34.0   \n",
       "2  3668-QPYBK    Male          0.0      No                           NaN   \n",
       "\n",
       "   Multiple Devices InternetService TechSupport_Rating  NUM_WATCHED_TITLES  \\\n",
       "0               0.0             DSL               Good                14.0   \n",
       "1               1.0             DSL                Bad                16.0   \n",
       "2               3.0             DSL               Good                 6.0   \n",
       "\n",
       "    State        Contract E-Billing     PaymentMethod MonthlyCharges  \\\n",
       "0  Kansas  Month-to-month       Yes  Electronic check            NaN   \n",
       "1  Hawaii        One year        No      Mailed check          56.95   \n",
       "2     NaN  Month-to-month       Yes      Mailed check          53.85   \n",
       "\n",
       "  TotalCharges Subscribed Number_of_Profiles PLAN_TYPE  \\\n",
       "0        29.85         No                  6   Premium   \n",
       "1       1889.5         No                  5  Standard   \n",
       "2       108.15        NaN               4.00     Basic   \n",
       "\n",
       "  NEW_RELEASE_CONSUMPTION AUTORENEW_FLAG Last_Payment_Date Has_Children  \\\n",
       "0                     NaN           1.00           1/19/23            4   \n",
       "1                   42.23           0.00          10/23/23            5   \n",
       "2                   64.16              0        20/01/2023            5   \n",
       "\n",
       "  AVG_WATCH_TIME  \n",
       "0          40.26  \n",
       "1      9.9299389  \n",
       "2           3.49  "
      ]
     },
     "execution_count": 197,
     "metadata": {},
     "output_type": "execute_result"
    }
   ],
   "source": [
    "df.head(3)"
   ]
  },
  {
   "cell_type": "code",
   "execution_count": 198,
   "id": "f8f11aab-acb6-45c5-9d9d-cc0f0c7a65e5",
   "metadata": {},
   "outputs": [],
   "source": [
    "df['AVG_WATCH_TIME'] = df['AVG_WATCH_TIME'].round(2)\n"
   ]
  },
  {
   "cell_type": "code",
   "execution_count": 199,
   "id": "4e00e753-99cd-4760-aadc-82ee380443f3",
   "metadata": {},
   "outputs": [
    {
     "data": {
      "text/html": [
       "<div>\n",
       "<style scoped>\n",
       "    .dataframe tbody tr th:only-of-type {\n",
       "        vertical-align: middle;\n",
       "    }\n",
       "\n",
       "    .dataframe tbody tr th {\n",
       "        vertical-align: top;\n",
       "    }\n",
       "\n",
       "    .dataframe thead th {\n",
       "        text-align: right;\n",
       "    }\n",
       "</style>\n",
       "<table border=\"1\" class=\"dataframe\">\n",
       "  <thead>\n",
       "    <tr style=\"text-align: right;\">\n",
       "      <th></th>\n",
       "      <th>customerID</th>\n",
       "      <th>gender</th>\n",
       "      <th>age_over_65</th>\n",
       "      <th>Partner</th>\n",
       "      <th>customer_longevity_in_months</th>\n",
       "      <th>Multiple Devices</th>\n",
       "      <th>InternetService</th>\n",
       "      <th>TechSupport_Rating</th>\n",
       "      <th>NUM_WATCHED_TITLES</th>\n",
       "      <th>State</th>\n",
       "      <th>Contract</th>\n",
       "      <th>E-Billing</th>\n",
       "      <th>PaymentMethod</th>\n",
       "      <th>MonthlyCharges</th>\n",
       "      <th>TotalCharges</th>\n",
       "      <th>Subscribed</th>\n",
       "      <th>Number_of_Profiles</th>\n",
       "      <th>PLAN_TYPE</th>\n",
       "      <th>NEW_RELEASE_CONSUMPTION</th>\n",
       "      <th>AUTORENEW_FLAG</th>\n",
       "      <th>Last_Payment_Date</th>\n",
       "      <th>Has_Children</th>\n",
       "      <th>AVG_WATCH_TIME</th>\n",
       "    </tr>\n",
       "  </thead>\n",
       "  <tbody>\n",
       "    <tr>\n",
       "      <th>0</th>\n",
       "      <td>7590-VHVEG</td>\n",
       "      <td>Female</td>\n",
       "      <td>0.0</td>\n",
       "      <td>Yes</td>\n",
       "      <td>1.0</td>\n",
       "      <td>0.0</td>\n",
       "      <td>DSL</td>\n",
       "      <td>Good</td>\n",
       "      <td>14.0</td>\n",
       "      <td>Kansas</td>\n",
       "      <td>Month-to-month</td>\n",
       "      <td>Yes</td>\n",
       "      <td>Electronic check</td>\n",
       "      <td>NaN</td>\n",
       "      <td>29.85</td>\n",
       "      <td>No</td>\n",
       "      <td>6</td>\n",
       "      <td>Premium</td>\n",
       "      <td>NaN</td>\n",
       "      <td>1.00</td>\n",
       "      <td>1/19/23</td>\n",
       "      <td>4</td>\n",
       "      <td>40.26</td>\n",
       "    </tr>\n",
       "    <tr>\n",
       "      <th>1</th>\n",
       "      <td>5575-GNVDE</td>\n",
       "      <td>Male</td>\n",
       "      <td>NaN</td>\n",
       "      <td>NaN</td>\n",
       "      <td>34.0</td>\n",
       "      <td>1.0</td>\n",
       "      <td>DSL</td>\n",
       "      <td>Bad</td>\n",
       "      <td>16.0</td>\n",
       "      <td>Hawaii</td>\n",
       "      <td>One year</td>\n",
       "      <td>No</td>\n",
       "      <td>Mailed check</td>\n",
       "      <td>56.95</td>\n",
       "      <td>1889.5</td>\n",
       "      <td>No</td>\n",
       "      <td>5</td>\n",
       "      <td>Standard</td>\n",
       "      <td>42.23</td>\n",
       "      <td>0.00</td>\n",
       "      <td>10/23/23</td>\n",
       "      <td>5</td>\n",
       "      <td>9.9299389</td>\n",
       "    </tr>\n",
       "    <tr>\n",
       "      <th>2</th>\n",
       "      <td>3668-QPYBK</td>\n",
       "      <td>Male</td>\n",
       "      <td>0.0</td>\n",
       "      <td>No</td>\n",
       "      <td>NaN</td>\n",
       "      <td>3.0</td>\n",
       "      <td>DSL</td>\n",
       "      <td>Good</td>\n",
       "      <td>6.0</td>\n",
       "      <td>NaN</td>\n",
       "      <td>Month-to-month</td>\n",
       "      <td>Yes</td>\n",
       "      <td>Mailed check</td>\n",
       "      <td>53.85</td>\n",
       "      <td>108.15</td>\n",
       "      <td>NaN</td>\n",
       "      <td>4.00</td>\n",
       "      <td>Basic</td>\n",
       "      <td>64.16</td>\n",
       "      <td>0</td>\n",
       "      <td>20/01/2023</td>\n",
       "      <td>5</td>\n",
       "      <td>3.49</td>\n",
       "    </tr>\n",
       "    <tr>\n",
       "      <th>3</th>\n",
       "      <td>7795-CFOCW</td>\n",
       "      <td>Male</td>\n",
       "      <td>0.0</td>\n",
       "      <td>No</td>\n",
       "      <td>45.0</td>\n",
       "      <td>2.0</td>\n",
       "      <td>DSL</td>\n",
       "      <td>Bad</td>\n",
       "      <td>4.0</td>\n",
       "      <td>Illinois</td>\n",
       "      <td>One year</td>\n",
       "      <td>No</td>\n",
       "      <td>Bank transfer (automatic)</td>\n",
       "      <td>42.30</td>\n",
       "      <td>1840.75</td>\n",
       "      <td>No</td>\n",
       "      <td>2</td>\n",
       "      <td>Premium</td>\n",
       "      <td>26.57342887</td>\n",
       "      <td>1</td>\n",
       "      <td>8/10/23</td>\n",
       "      <td>4.00</td>\n",
       "      <td>nan</td>\n",
       "    </tr>\n",
       "    <tr>\n",
       "      <th>4</th>\n",
       "      <td>9237-HQITU</td>\n",
       "      <td>Female</td>\n",
       "      <td>0.0</td>\n",
       "      <td>No</td>\n",
       "      <td>2.0</td>\n",
       "      <td>2.0</td>\n",
       "      <td>Fiber optic</td>\n",
       "      <td>nan</td>\n",
       "      <td>14.0</td>\n",
       "      <td>Indiana</td>\n",
       "      <td>Month-to-month</td>\n",
       "      <td>Yes</td>\n",
       "      <td>Electronic check</td>\n",
       "      <td>70.70</td>\n",
       "      <td>151.65</td>\n",
       "      <td>Yes</td>\n",
       "      <td>2.00</td>\n",
       "      <td>Basic</td>\n",
       "      <td>67.40143139</td>\n",
       "      <td>1</td>\n",
       "      <td>16-Mar-23</td>\n",
       "      <td>2</td>\n",
       "      <td>44.50339225</td>\n",
       "    </tr>\n",
       "  </tbody>\n",
       "</table>\n",
       "</div>"
      ],
      "text/plain": [
       "   customerID  gender  age_over_65 Partner  customer_longevity_in_months  \\\n",
       "0  7590-VHVEG  Female          0.0     Yes                           1.0   \n",
       "1  5575-GNVDE    Male          NaN     NaN                          34.0   \n",
       "2  3668-QPYBK    Male          0.0      No                           NaN   \n",
       "3  7795-CFOCW    Male          0.0      No                          45.0   \n",
       "4  9237-HQITU  Female          0.0      No                           2.0   \n",
       "\n",
       "   Multiple Devices InternetService TechSupport_Rating  NUM_WATCHED_TITLES  \\\n",
       "0               0.0             DSL               Good                14.0   \n",
       "1               1.0             DSL                Bad                16.0   \n",
       "2               3.0             DSL               Good                 6.0   \n",
       "3               2.0             DSL                Bad                 4.0   \n",
       "4               2.0     Fiber optic                nan                14.0   \n",
       "\n",
       "      State        Contract E-Billing              PaymentMethod  \\\n",
       "0    Kansas  Month-to-month       Yes           Electronic check   \n",
       "1    Hawaii        One year        No               Mailed check   \n",
       "2       NaN  Month-to-month       Yes               Mailed check   \n",
       "3  Illinois        One year        No  Bank transfer (automatic)   \n",
       "4   Indiana  Month-to-month       Yes           Electronic check   \n",
       "\n",
       "  MonthlyCharges TotalCharges Subscribed Number_of_Profiles PLAN_TYPE  \\\n",
       "0            NaN        29.85         No                  6   Premium   \n",
       "1          56.95       1889.5         No                  5  Standard   \n",
       "2          53.85       108.15        NaN               4.00     Basic   \n",
       "3          42.30      1840.75         No                  2   Premium   \n",
       "4          70.70       151.65        Yes               2.00     Basic   \n",
       "\n",
       "  NEW_RELEASE_CONSUMPTION AUTORENEW_FLAG Last_Payment_Date Has_Children  \\\n",
       "0                     NaN           1.00           1/19/23            4   \n",
       "1                   42.23           0.00          10/23/23            5   \n",
       "2                   64.16              0        20/01/2023            5   \n",
       "3             26.57342887              1           8/10/23         4.00   \n",
       "4             67.40143139              1         16-Mar-23            2   \n",
       "\n",
       "  AVG_WATCH_TIME  \n",
       "0          40.26  \n",
       "1      9.9299389  \n",
       "2           3.49  \n",
       "3            nan  \n",
       "4    44.50339225  "
      ]
     },
     "execution_count": 199,
     "metadata": {},
     "output_type": "execute_result"
    }
   ],
   "source": [
    "df.head(5)"
   ]
  },
  {
   "cell_type": "code",
   "execution_count": 200,
   "id": "da22d4eb-f1c8-4a50-b15c-782a661a8e0b",
   "metadata": {},
   "outputs": [],
   "source": [
    "df['NEW_RELEASE_CONSUMPTION'] = df['NEW_RELEASE_CONSUMPTION'].round(2)\n"
   ]
  },
  {
   "cell_type": "code",
   "execution_count": 201,
   "id": "f4612e24-bb74-4ce9-b103-b47d22de3730",
   "metadata": {},
   "outputs": [
    {
     "data": {
      "text/html": [
       "<div>\n",
       "<style scoped>\n",
       "    .dataframe tbody tr th:only-of-type {\n",
       "        vertical-align: middle;\n",
       "    }\n",
       "\n",
       "    .dataframe tbody tr th {\n",
       "        vertical-align: top;\n",
       "    }\n",
       "\n",
       "    .dataframe thead th {\n",
       "        text-align: right;\n",
       "    }\n",
       "</style>\n",
       "<table border=\"1\" class=\"dataframe\">\n",
       "  <thead>\n",
       "    <tr style=\"text-align: right;\">\n",
       "      <th></th>\n",
       "      <th>customerID</th>\n",
       "      <th>gender</th>\n",
       "      <th>age_over_65</th>\n",
       "      <th>Partner</th>\n",
       "      <th>customer_longevity_in_months</th>\n",
       "      <th>Multiple Devices</th>\n",
       "      <th>InternetService</th>\n",
       "      <th>TechSupport_Rating</th>\n",
       "      <th>NUM_WATCHED_TITLES</th>\n",
       "      <th>State</th>\n",
       "      <th>Contract</th>\n",
       "      <th>E-Billing</th>\n",
       "      <th>PaymentMethod</th>\n",
       "      <th>MonthlyCharges</th>\n",
       "      <th>TotalCharges</th>\n",
       "      <th>Subscribed</th>\n",
       "      <th>Number_of_Profiles</th>\n",
       "      <th>PLAN_TYPE</th>\n",
       "      <th>NEW_RELEASE_CONSUMPTION</th>\n",
       "      <th>AUTORENEW_FLAG</th>\n",
       "      <th>Last_Payment_Date</th>\n",
       "      <th>Has_Children</th>\n",
       "      <th>AVG_WATCH_TIME</th>\n",
       "    </tr>\n",
       "  </thead>\n",
       "  <tbody>\n",
       "    <tr>\n",
       "      <th>0</th>\n",
       "      <td>7590-VHVEG</td>\n",
       "      <td>Female</td>\n",
       "      <td>0.0</td>\n",
       "      <td>Yes</td>\n",
       "      <td>1.0</td>\n",
       "      <td>0.0</td>\n",
       "      <td>DSL</td>\n",
       "      <td>Good</td>\n",
       "      <td>14.0</td>\n",
       "      <td>Kansas</td>\n",
       "      <td>Month-to-month</td>\n",
       "      <td>Yes</td>\n",
       "      <td>Electronic check</td>\n",
       "      <td>NaN</td>\n",
       "      <td>29.85</td>\n",
       "      <td>No</td>\n",
       "      <td>6</td>\n",
       "      <td>Premium</td>\n",
       "      <td>NaN</td>\n",
       "      <td>1.00</td>\n",
       "      <td>1/19/23</td>\n",
       "      <td>4</td>\n",
       "      <td>40.26</td>\n",
       "    </tr>\n",
       "    <tr>\n",
       "      <th>1</th>\n",
       "      <td>5575-GNVDE</td>\n",
       "      <td>Male</td>\n",
       "      <td>NaN</td>\n",
       "      <td>NaN</td>\n",
       "      <td>34.0</td>\n",
       "      <td>1.0</td>\n",
       "      <td>DSL</td>\n",
       "      <td>Bad</td>\n",
       "      <td>16.0</td>\n",
       "      <td>Hawaii</td>\n",
       "      <td>One year</td>\n",
       "      <td>No</td>\n",
       "      <td>Mailed check</td>\n",
       "      <td>56.95</td>\n",
       "      <td>1889.5</td>\n",
       "      <td>No</td>\n",
       "      <td>5</td>\n",
       "      <td>Standard</td>\n",
       "      <td>42.23</td>\n",
       "      <td>0.00</td>\n",
       "      <td>10/23/23</td>\n",
       "      <td>5</td>\n",
       "      <td>9.9299389</td>\n",
       "    </tr>\n",
       "    <tr>\n",
       "      <th>2</th>\n",
       "      <td>3668-QPYBK</td>\n",
       "      <td>Male</td>\n",
       "      <td>0.0</td>\n",
       "      <td>No</td>\n",
       "      <td>NaN</td>\n",
       "      <td>3.0</td>\n",
       "      <td>DSL</td>\n",
       "      <td>Good</td>\n",
       "      <td>6.0</td>\n",
       "      <td>NaN</td>\n",
       "      <td>Month-to-month</td>\n",
       "      <td>Yes</td>\n",
       "      <td>Mailed check</td>\n",
       "      <td>53.85</td>\n",
       "      <td>108.15</td>\n",
       "      <td>NaN</td>\n",
       "      <td>4.00</td>\n",
       "      <td>Basic</td>\n",
       "      <td>64.16</td>\n",
       "      <td>0</td>\n",
       "      <td>20/01/2023</td>\n",
       "      <td>5</td>\n",
       "      <td>3.49</td>\n",
       "    </tr>\n",
       "    <tr>\n",
       "      <th>3</th>\n",
       "      <td>7795-CFOCW</td>\n",
       "      <td>Male</td>\n",
       "      <td>0.0</td>\n",
       "      <td>No</td>\n",
       "      <td>45.0</td>\n",
       "      <td>2.0</td>\n",
       "      <td>DSL</td>\n",
       "      <td>Bad</td>\n",
       "      <td>4.0</td>\n",
       "      <td>Illinois</td>\n",
       "      <td>One year</td>\n",
       "      <td>No</td>\n",
       "      <td>Bank transfer (automatic)</td>\n",
       "      <td>42.30</td>\n",
       "      <td>1840.75</td>\n",
       "      <td>No</td>\n",
       "      <td>2</td>\n",
       "      <td>Premium</td>\n",
       "      <td>26.57342887</td>\n",
       "      <td>1</td>\n",
       "      <td>8/10/23</td>\n",
       "      <td>4.00</td>\n",
       "      <td>nan</td>\n",
       "    </tr>\n",
       "    <tr>\n",
       "      <th>4</th>\n",
       "      <td>9237-HQITU</td>\n",
       "      <td>Female</td>\n",
       "      <td>0.0</td>\n",
       "      <td>No</td>\n",
       "      <td>2.0</td>\n",
       "      <td>2.0</td>\n",
       "      <td>Fiber optic</td>\n",
       "      <td>nan</td>\n",
       "      <td>14.0</td>\n",
       "      <td>Indiana</td>\n",
       "      <td>Month-to-month</td>\n",
       "      <td>Yes</td>\n",
       "      <td>Electronic check</td>\n",
       "      <td>70.70</td>\n",
       "      <td>151.65</td>\n",
       "      <td>Yes</td>\n",
       "      <td>2.00</td>\n",
       "      <td>Basic</td>\n",
       "      <td>67.40143139</td>\n",
       "      <td>1</td>\n",
       "      <td>16-Mar-23</td>\n",
       "      <td>2</td>\n",
       "      <td>44.50339225</td>\n",
       "    </tr>\n",
       "  </tbody>\n",
       "</table>\n",
       "</div>"
      ],
      "text/plain": [
       "   customerID  gender  age_over_65 Partner  customer_longevity_in_months  \\\n",
       "0  7590-VHVEG  Female          0.0     Yes                           1.0   \n",
       "1  5575-GNVDE    Male          NaN     NaN                          34.0   \n",
       "2  3668-QPYBK    Male          0.0      No                           NaN   \n",
       "3  7795-CFOCW    Male          0.0      No                          45.0   \n",
       "4  9237-HQITU  Female          0.0      No                           2.0   \n",
       "\n",
       "   Multiple Devices InternetService TechSupport_Rating  NUM_WATCHED_TITLES  \\\n",
       "0               0.0             DSL               Good                14.0   \n",
       "1               1.0             DSL                Bad                16.0   \n",
       "2               3.0             DSL               Good                 6.0   \n",
       "3               2.0             DSL                Bad                 4.0   \n",
       "4               2.0     Fiber optic                nan                14.0   \n",
       "\n",
       "      State        Contract E-Billing              PaymentMethod  \\\n",
       "0    Kansas  Month-to-month       Yes           Electronic check   \n",
       "1    Hawaii        One year        No               Mailed check   \n",
       "2       NaN  Month-to-month       Yes               Mailed check   \n",
       "3  Illinois        One year        No  Bank transfer (automatic)   \n",
       "4   Indiana  Month-to-month       Yes           Electronic check   \n",
       "\n",
       "  MonthlyCharges TotalCharges Subscribed Number_of_Profiles PLAN_TYPE  \\\n",
       "0            NaN        29.85         No                  6   Premium   \n",
       "1          56.95       1889.5         No                  5  Standard   \n",
       "2          53.85       108.15        NaN               4.00     Basic   \n",
       "3          42.30      1840.75         No                  2   Premium   \n",
       "4          70.70       151.65        Yes               2.00     Basic   \n",
       "\n",
       "  NEW_RELEASE_CONSUMPTION AUTORENEW_FLAG Last_Payment_Date Has_Children  \\\n",
       "0                     NaN           1.00           1/19/23            4   \n",
       "1                   42.23           0.00          10/23/23            5   \n",
       "2                   64.16              0        20/01/2023            5   \n",
       "3             26.57342887              1           8/10/23         4.00   \n",
       "4             67.40143139              1         16-Mar-23            2   \n",
       "\n",
       "  AVG_WATCH_TIME  \n",
       "0          40.26  \n",
       "1      9.9299389  \n",
       "2           3.49  \n",
       "3            nan  \n",
       "4    44.50339225  "
      ]
     },
     "execution_count": 201,
     "metadata": {},
     "output_type": "execute_result"
    }
   ],
   "source": [
    "df.head(5)"
   ]
  },
  {
   "cell_type": "code",
   "execution_count": 202,
   "id": "5c481c84-4d00-4042-a430-8ef9422a5961",
   "metadata": {},
   "outputs": [
    {
     "data": {
      "text/plain": [
       "Last_Payment_Date\n",
       "11/10/23      25\n",
       "1/9/23        24\n",
       "5/10/23       23\n",
       "2/1/23        22\n",
       "6/9/23        20\n",
       "              ..\n",
       "12-Aug-23      1\n",
       "24/05/2023     1\n",
       "9-Aug-23       1\n",
       "15/01/2023     1\n",
       "19/09/2023     1\n",
       "Name: count, Length: 942, dtype: int64"
      ]
     },
     "execution_count": 202,
     "metadata": {},
     "output_type": "execute_result"
    }
   ],
   "source": [
    "df['Last_Payment_Date'].value_counts()"
   ]
  },
  {
   "cell_type": "code",
   "execution_count": 203,
   "id": "7eba0383-878a-433f-a5bf-4ff3e4f04090",
   "metadata": {},
   "outputs": [],
   "source": [
    "\n",
    "# Convert the 'last_payment_date' column to datetime format\n",
    "df['Last_Payment_Date'] = pd.to_datetime(df['Last_Payment_Date'], errors='coerce', dayfirst=True)\n"
   ]
  },
  {
   "cell_type": "code",
   "execution_count": 204,
   "id": "70b8c07a-a590-45db-9cb9-379773b471ee",
   "metadata": {},
   "outputs": [
    {
     "data": {
      "text/plain": [
       "Last_Payment_Date\n",
       "2023-10-11    34\n",
       "2023-02-23    30\n",
       "2023-05-02    30\n",
       "2023-08-08    28\n",
       "2023-01-20    28\n",
       "              ..\n",
       "2023-09-19     9\n",
       "2023-06-28     9\n",
       "2023-05-17     9\n",
       "2023-12-13     8\n",
       "2023-03-26     8\n",
       "Name: count, Length: 366, dtype: int64"
      ]
     },
     "execution_count": 204,
     "metadata": {},
     "output_type": "execute_result"
    }
   ],
   "source": [
    "df['Last_Payment_Date'].value_counts()"
   ]
  },
  {
   "cell_type": "code",
   "execution_count": 205,
   "id": "8b882b11-241e-4fc0-8243-617ef89b347b",
   "metadata": {},
   "outputs": [
    {
     "data": {
      "text/html": [
       "<div>\n",
       "<style scoped>\n",
       "    .dataframe tbody tr th:only-of-type {\n",
       "        vertical-align: middle;\n",
       "    }\n",
       "\n",
       "    .dataframe tbody tr th {\n",
       "        vertical-align: top;\n",
       "    }\n",
       "\n",
       "    .dataframe thead th {\n",
       "        text-align: right;\n",
       "    }\n",
       "</style>\n",
       "<table border=\"1\" class=\"dataframe\">\n",
       "  <thead>\n",
       "    <tr style=\"text-align: right;\">\n",
       "      <th></th>\n",
       "      <th>customerID</th>\n",
       "      <th>gender</th>\n",
       "      <th>age_over_65</th>\n",
       "      <th>Partner</th>\n",
       "      <th>customer_longevity_in_months</th>\n",
       "      <th>Multiple Devices</th>\n",
       "      <th>InternetService</th>\n",
       "      <th>TechSupport_Rating</th>\n",
       "      <th>NUM_WATCHED_TITLES</th>\n",
       "      <th>State</th>\n",
       "      <th>Contract</th>\n",
       "      <th>E-Billing</th>\n",
       "      <th>PaymentMethod</th>\n",
       "      <th>MonthlyCharges</th>\n",
       "      <th>TotalCharges</th>\n",
       "      <th>Subscribed</th>\n",
       "      <th>Number_of_Profiles</th>\n",
       "      <th>PLAN_TYPE</th>\n",
       "      <th>NEW_RELEASE_CONSUMPTION</th>\n",
       "      <th>AUTORENEW_FLAG</th>\n",
       "      <th>Last_Payment_Date</th>\n",
       "      <th>Has_Children</th>\n",
       "      <th>AVG_WATCH_TIME</th>\n",
       "    </tr>\n",
       "  </thead>\n",
       "  <tbody>\n",
       "    <tr>\n",
       "      <th>0</th>\n",
       "      <td>7590-VHVEG</td>\n",
       "      <td>Female</td>\n",
       "      <td>0.0</td>\n",
       "      <td>Yes</td>\n",
       "      <td>1.0</td>\n",
       "      <td>0.0</td>\n",
       "      <td>DSL</td>\n",
       "      <td>Good</td>\n",
       "      <td>14.0</td>\n",
       "      <td>Kansas</td>\n",
       "      <td>Month-to-month</td>\n",
       "      <td>Yes</td>\n",
       "      <td>Electronic check</td>\n",
       "      <td>NaN</td>\n",
       "      <td>29.85</td>\n",
       "      <td>No</td>\n",
       "      <td>6</td>\n",
       "      <td>Premium</td>\n",
       "      <td>NaN</td>\n",
       "      <td>1.00</td>\n",
       "      <td>2023-01-19</td>\n",
       "      <td>4</td>\n",
       "      <td>40.26</td>\n",
       "    </tr>\n",
       "    <tr>\n",
       "      <th>1</th>\n",
       "      <td>5575-GNVDE</td>\n",
       "      <td>Male</td>\n",
       "      <td>NaN</td>\n",
       "      <td>NaN</td>\n",
       "      <td>34.0</td>\n",
       "      <td>1.0</td>\n",
       "      <td>DSL</td>\n",
       "      <td>Bad</td>\n",
       "      <td>16.0</td>\n",
       "      <td>Hawaii</td>\n",
       "      <td>One year</td>\n",
       "      <td>No</td>\n",
       "      <td>Mailed check</td>\n",
       "      <td>56.95</td>\n",
       "      <td>1889.5</td>\n",
       "      <td>No</td>\n",
       "      <td>5</td>\n",
       "      <td>Standard</td>\n",
       "      <td>42.23</td>\n",
       "      <td>0.00</td>\n",
       "      <td>2023-10-23</td>\n",
       "      <td>5</td>\n",
       "      <td>9.9299389</td>\n",
       "    </tr>\n",
       "    <tr>\n",
       "      <th>2</th>\n",
       "      <td>3668-QPYBK</td>\n",
       "      <td>Male</td>\n",
       "      <td>0.0</td>\n",
       "      <td>No</td>\n",
       "      <td>NaN</td>\n",
       "      <td>3.0</td>\n",
       "      <td>DSL</td>\n",
       "      <td>Good</td>\n",
       "      <td>6.0</td>\n",
       "      <td>NaN</td>\n",
       "      <td>Month-to-month</td>\n",
       "      <td>Yes</td>\n",
       "      <td>Mailed check</td>\n",
       "      <td>53.85</td>\n",
       "      <td>108.15</td>\n",
       "      <td>NaN</td>\n",
       "      <td>4.00</td>\n",
       "      <td>Basic</td>\n",
       "      <td>64.16</td>\n",
       "      <td>0</td>\n",
       "      <td>2023-01-20</td>\n",
       "      <td>5</td>\n",
       "      <td>3.49</td>\n",
       "    </tr>\n",
       "    <tr>\n",
       "      <th>3</th>\n",
       "      <td>7795-CFOCW</td>\n",
       "      <td>Male</td>\n",
       "      <td>0.0</td>\n",
       "      <td>No</td>\n",
       "      <td>45.0</td>\n",
       "      <td>2.0</td>\n",
       "      <td>DSL</td>\n",
       "      <td>Bad</td>\n",
       "      <td>4.0</td>\n",
       "      <td>Illinois</td>\n",
       "      <td>One year</td>\n",
       "      <td>No</td>\n",
       "      <td>Bank transfer (automatic)</td>\n",
       "      <td>42.30</td>\n",
       "      <td>1840.75</td>\n",
       "      <td>No</td>\n",
       "      <td>2</td>\n",
       "      <td>Premium</td>\n",
       "      <td>26.57342887</td>\n",
       "      <td>1</td>\n",
       "      <td>2023-10-08</td>\n",
       "      <td>4.00</td>\n",
       "      <td>nan</td>\n",
       "    </tr>\n",
       "    <tr>\n",
       "      <th>4</th>\n",
       "      <td>9237-HQITU</td>\n",
       "      <td>Female</td>\n",
       "      <td>0.0</td>\n",
       "      <td>No</td>\n",
       "      <td>2.0</td>\n",
       "      <td>2.0</td>\n",
       "      <td>Fiber optic</td>\n",
       "      <td>nan</td>\n",
       "      <td>14.0</td>\n",
       "      <td>Indiana</td>\n",
       "      <td>Month-to-month</td>\n",
       "      <td>Yes</td>\n",
       "      <td>Electronic check</td>\n",
       "      <td>70.70</td>\n",
       "      <td>151.65</td>\n",
       "      <td>Yes</td>\n",
       "      <td>2.00</td>\n",
       "      <td>Basic</td>\n",
       "      <td>67.40143139</td>\n",
       "      <td>1</td>\n",
       "      <td>2023-03-16</td>\n",
       "      <td>2</td>\n",
       "      <td>44.50339225</td>\n",
       "    </tr>\n",
       "  </tbody>\n",
       "</table>\n",
       "</div>"
      ],
      "text/plain": [
       "   customerID  gender  age_over_65 Partner  customer_longevity_in_months  \\\n",
       "0  7590-VHVEG  Female          0.0     Yes                           1.0   \n",
       "1  5575-GNVDE    Male          NaN     NaN                          34.0   \n",
       "2  3668-QPYBK    Male          0.0      No                           NaN   \n",
       "3  7795-CFOCW    Male          0.0      No                          45.0   \n",
       "4  9237-HQITU  Female          0.0      No                           2.0   \n",
       "\n",
       "   Multiple Devices InternetService TechSupport_Rating  NUM_WATCHED_TITLES  \\\n",
       "0               0.0             DSL               Good                14.0   \n",
       "1               1.0             DSL                Bad                16.0   \n",
       "2               3.0             DSL               Good                 6.0   \n",
       "3               2.0             DSL                Bad                 4.0   \n",
       "4               2.0     Fiber optic                nan                14.0   \n",
       "\n",
       "      State        Contract E-Billing              PaymentMethod  \\\n",
       "0    Kansas  Month-to-month       Yes           Electronic check   \n",
       "1    Hawaii        One year        No               Mailed check   \n",
       "2       NaN  Month-to-month       Yes               Mailed check   \n",
       "3  Illinois        One year        No  Bank transfer (automatic)   \n",
       "4   Indiana  Month-to-month       Yes           Electronic check   \n",
       "\n",
       "  MonthlyCharges TotalCharges Subscribed Number_of_Profiles PLAN_TYPE  \\\n",
       "0            NaN        29.85         No                  6   Premium   \n",
       "1          56.95       1889.5         No                  5  Standard   \n",
       "2          53.85       108.15        NaN               4.00     Basic   \n",
       "3          42.30      1840.75         No                  2   Premium   \n",
       "4          70.70       151.65        Yes               2.00     Basic   \n",
       "\n",
       "  NEW_RELEASE_CONSUMPTION AUTORENEW_FLAG Last_Payment_Date Has_Children  \\\n",
       "0                     NaN           1.00        2023-01-19            4   \n",
       "1                   42.23           0.00        2023-10-23            5   \n",
       "2                   64.16              0        2023-01-20            5   \n",
       "3             26.57342887              1        2023-10-08         4.00   \n",
       "4             67.40143139              1        2023-03-16            2   \n",
       "\n",
       "  AVG_WATCH_TIME  \n",
       "0          40.26  \n",
       "1      9.9299389  \n",
       "2           3.49  \n",
       "3            nan  \n",
       "4    44.50339225  "
      ]
     },
     "execution_count": 205,
     "metadata": {},
     "output_type": "execute_result"
    }
   ],
   "source": [
    "df.head(5)"
   ]
  },
  {
   "cell_type": "code",
   "execution_count": 208,
   "id": "4bb5bb3b-0459-40ed-a9bb-4c04cd8508f4",
   "metadata": {},
   "outputs": [
    {
     "data": {
      "text/plain": [
       "Index(['customerID', 'gender', 'age_over_65', 'Partner',\n",
       "       'customer_longevity_in_months', 'Multiple Devices', 'InternetService',\n",
       "       'TechSupport_Rating', 'NUM_WATCHED_TITLES', 'State', 'Contract',\n",
       "       'E-Billing', 'PaymentMethod', 'MonthlyCharges', 'TotalCharges',\n",
       "       'Subscribed', 'Number_of_Profiles', 'PLAN_TYPE',\n",
       "       'NEW_RELEASE_CONSUMPTION', 'AUTORENEW_FLAG', 'Last_Payment_Date',\n",
       "       'Has_Children', 'AVG_WATCH_TIME'],\n",
       "      dtype='object')"
      ]
     },
     "execution_count": 208,
     "metadata": {},
     "output_type": "execute_result"
    }
   ],
   "source": [
    "df.columns"
   ]
  },
  {
   "cell_type": "code",
   "execution_count": null,
   "id": "52b52b46-38c4-4414-95d0-c056d28ffbf7",
   "metadata": {},
   "outputs": [],
   "source": []
  }
 ],
 "metadata": {
  "kernelspec": {
   "display_name": "Python 3 (ipykernel)",
   "language": "python",
   "name": "python3"
  },
  "language_info": {
   "codemirror_mode": {
    "name": "ipython",
    "version": 3
   },
   "file_extension": ".py",
   "mimetype": "text/x-python",
   "name": "python",
   "nbconvert_exporter": "python",
   "pygments_lexer": "ipython3",
   "version": "3.12.4"
  }
 },
 "nbformat": 4,
 "nbformat_minor": 5
}
